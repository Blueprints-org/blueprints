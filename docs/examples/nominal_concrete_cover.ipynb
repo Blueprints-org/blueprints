{
 "cells": [
  {
   "cell_type": "markdown",
   "id": "4dd6d25d",
   "metadata": {},
   "source": [
    "# Nominal Concrete Cover\n",
    "\n",
    "Calculating the nominal concrete cover is an important step in the design of reinforced concrete structures.\n",
    "The nominal concrete cover is the minimum thickness of concrete that separates the reinforcing steel from the environment.\n",
    "This thickness is necessary to protect the steel from corrosion and to ensure the durability of the structure.\n",
    "\n",
    "`Blueprints` provides a simple way to calculate the nominal concrete cover using NEN-EN 1992-1-1:2011.\n",
    "This example can be followed step by step by first importing the necessary classes and functions."
   ]
  },
  {
   "cell_type": "code",
   "execution_count": 7,
   "id": "4b0d685d",
   "metadata": {},
   "outputs": [],
   "source": [
    "from blueprints.checks.nominal_concrete_cover.constants.constants_en_1992_1_1_2004 import NominalConcreteCoverConstants\n",
    "from blueprints.checks.nominal_concrete_cover.definitions import AbrasionClass, CastingSurface\n",
    "from blueprints.checks.nominal_concrete_cover.nominal_concrete_cover import NominalConcreteCover\n",
    "from blueprints.codes.eurocode.en_1992_1_1_2004.chapter_4_durability_and_cover.table_4_3 import Table4Dot3ConcreteStructuralClass\n",
    "from blueprints.materials.concrete import ConcreteMaterial, ConcreteStrengthClass"
   ]
  },
  {
   "cell_type": "markdown",
   "id": "462d3623",
   "metadata": {},
   "source": [
    "Define the concrete material properties to be used in the calculation:"
   ]
  },
  {
   "cell_type": "code",
   "execution_count": 8,
   "id": "55254625",
   "metadata": {},
   "outputs": [],
   "source": [
    "concrete_material = ConcreteMaterial(concrete_class=ConcreteStrengthClass.C30_37)"
   ]
  },
  {
   "cell_type": "markdown",
   "id": "417b56b5",
   "metadata": {},
   "source": [
    "Calculate the structural class by its exposure classes, design working life and other parameters:"
   ]
  },
  {
   "cell_type": "code",
   "execution_count": 9,
   "id": "ec0c3d66",
   "metadata": {},
   "outputs": [],
   "source": [
    "structural_class = Table4Dot3ConcreteStructuralClass(\n",
    "    exposure_classes=[\"XC1\"],\n",
    "    design_working_life=100,\n",
    "    concrete_material=concrete_material,\n",
    "    plate_geometry=False,\n",
    "    quality_control=False,\n",
    ")"
   ]
  },
  {
   "cell_type": "markdown",
   "id": "0e2c58c3",
   "metadata": {},
   "source": [
    "Start the nominal concrete cover calculation:"
   ]
  },
  {
   "cell_type": "code",
   "execution_count": 10,
   "id": "1599f795",
   "metadata": {},
   "outputs": [],
   "source": [
    "calculation = NominalConcreteCover(\n",
    "    reinforcement_diameter=32,\n",
    "    nominal_max_aggregate_size=32,\n",
    "    constants=NominalConcreteCoverConstants(),\n",
    "    structural_class=structural_class,  # or by its number, for example 4 in the case of S4\n",
    "    carbonation=\"XC1\",\n",
    "    delta_c_dur_gamma=10,\n",
    "    delta_c_dur_add=0,\n",
    "    casting_surface=CastingSurface.PREPARED_GROUND,\n",
    "    uneven_surface=False,\n",
    "    abrasion_class=AbrasionClass.NA,\n",
    ")"
   ]
  },
  {
   "cell_type": "markdown",
   "id": "72f842bd",
   "metadata": {},
   "source": [
    "Then just print the results:"
   ]
  },
  {
   "cell_type": "code",
   "execution_count": 11,
   "id": "0216f840",
   "metadata": {},
   "outputs": [
    {
     "name": "stdout",
     "output_type": "stream",
     "text": [
      "Structural class: S5\n",
      "\n",
      "C,min,dur: 20.0 mm\n",
      "C,min,b: 32.0 mm\n",
      "C,min,total: 32.0 mm\n",
      "\tCover increase due to uneven surface: 0 mm\n",
      "\tCover increase due to abrasion: 0 mm\n",
      "\n",
      "Nominal concrete cover: 60.0 mm\n",
      "\tC,nom: 42.0 mm\n",
      "\tMinimum cover with regard to casting surface: 60.0 mm\n",
      "\n",
      "\n"
     ]
    }
   ],
   "source": [
    "print(\n",
    "    f\"Structural class: {structural_class}\\n\\n\"\n",
    "    f\"C,min,dur: {calculation.c_min_dur()} mm\\n\"\n",
    "    f\"C,min,b: {calculation.c_min_b()} mm\\n\"\n",
    "    f\"C,min,total: {calculation.c_min_total()} mm\\n\"\n",
    "    f\"\\tCover increase due to uneven surface: {calculation.cover_increase_for_uneven_surface()} mm\\n\"\n",
    "    f\"\\tCover increase due to abrasion: {calculation.cover_increase_for_abrasion_class()} mm\\n\\n\"\n",
    "    f\"Nominal concrete cover: {calculation.value()} mm\\n\"\n",
    "    f\"\\tC,nom: {calculation.c_nom()} mm\\n\"\n",
    "    f\"\\tMinimum cover with regard to casting surface: {calculation.minimum_cover_with_regard_to_casting_surface()} mm\\n\\n\"\n",
    ")"
   ]
  },
  {
   "cell_type": "markdown",
   "id": "1bac0dfa",
   "metadata": {},
   "source": [
    "You could also use the `NominalConcreteCover` to get a latex representation of the calculation by using:"
   ]
  },
  {
   "cell_type": "code",
   "execution_count": 12,
   "id": "4b4847ed",
   "metadata": {},
   "outputs": [
    {
     "name": "stdout",
     "output_type": "stream",
     "text": [
      "Nominal~concrete~cover~according~to~art.~4.4.1~from~NEN-EN~1992-1-1+C2:2011:\\newline~\\max~\\left\\{Nominal~concrete~cover~according~to~art.~4.4.1~(c_{nom});~Minimum~cover~with~regard~to~casting~surface~according~to~art.~4.4.1.3~(4)\\right\\}\\newline~=~\\max~\\left\\{42.0;~60.0\\right\\}~=~60.0~mm\\newline~\\newline~Where:\\newline~\\hspace{4ex}c_{nom}~=~c_{min,total}+\\Delta~c_{dev}~=~32.0+10~=~42.0~mm\\newline~\\hspace{4ex}\\Delta~c_{dev}~is~determined~according~to~art.~4.4.1.3~(1)\\newline~\\hspace{4ex}c_{min,total}~=~c_{min}~+~\\Delta~c_{uneven~surface}~~+~\\Delta~c_{abrasion~class}~=~32.0~+~0~+~0~=~32.0~mm\\newline~\\hspace{4ex}\\Delta~c_{uneven~surface}~and~\\Delta~c_{abrasion~class}~are~determined~according~to~art.~4.4.1.2~(11)~and~(13)\\newline~\\hspace{4ex}c_{min}~=~\\max~\\left\\{c_{min,b};~c_{min,dur}+\\Delta~c_{dur,\\gamma}-\\Delta~c_{dur,st}-\\Delta~c_{dur,add};~10~\\text{mm}\\right\\}~=~\\max~\\left\\{32.0;~20.0+10-0-0;~10\\right\\}~=~32.0~mm\\newline~\\hspace{4ex}\\Delta~c_{dur,\\gamma}~,~\\Delta~c_{dur,st}~and~\\Delta~c_{dur,add}~are~determined~according~to~art.~4.4.1.2~(6),~(7)~and~(8)\\newline~\\hspace{4ex}c_{min,b}~is~determined~according~to~table~4.2~based~on~(equivalent)~rebar~diameter~=~32~=~32~mm\\newline~\\hspace{4ex}c_{min,dur}~is~determined~according~to~table~4.4~based~on~structural~class~S5~\\&~exposure~classes~(XC1)~=~20~mm\\newline~\\hspace{4ex}Minimum~cover~with~regard~to~casting~surface~according~to~art.~4.4.1.3~(4)~=~k1~\\ge~c_{min,dur}~+~40~mm~for~Prepared~ground~(including~blinding)\n"
     ]
    }
   ],
   "source": [
    "print(calculation.latex())"
   ]
  },
  {
   "cell_type": "markdown",
   "id": "36c64935",
   "metadata": {},
   "source": [
    "You could use an external service like [lagrida](https://latexeditor.lagrida.com/) to render the latex code or use this output inside a latex or word document of your choice."
   ]
  }
 ],
 "metadata": {
  "kernelspec": {
   "display_name": "venv",
   "language": "python",
   "name": "python3"
  },
  "language_info": {
   "codemirror_mode": {
    "name": "ipython",
    "version": 3
   },
   "file_extension": ".py",
   "mimetype": "text/x-python",
   "name": "python",
   "nbconvert_exporter": "python",
   "pygments_lexer": "ipython3",
   "version": "3.13.2"
  }
 },
 "nbformat": 4,
 "nbformat_minor": 5
}
