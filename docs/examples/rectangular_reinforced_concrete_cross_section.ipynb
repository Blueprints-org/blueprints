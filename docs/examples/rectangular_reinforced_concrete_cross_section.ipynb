{
 "cells": [
  {
   "cell_type": "markdown",
   "id": "a8ee48fd",
   "metadata": {},
   "source": [
    "# Create a Rectangular Reinforced Cross-section\n",
    "\n",
    "This example demonstrates how to create a rectangular reinforced concrete cross-section step by step using the blueprints library.\n",
    "\n",
    "We'll start by defining materials, create the rectangular cross-section geometry with custom covers, add reinforcement to all edges, include stirrups, and finally visualize our complete design.\n",
    "\n",
    "Let's begin!"
   ]
  },
  {
   "cell_type": "markdown",
   "id": "878885a5",
   "metadata": {},
   "source": [
    "## Import Required Libraries\n",
    "\n",
    "First, let's import the necessary modules for rectangular cross-sections:"
   ]
  },
  {
   "cell_type": "code",
   "execution_count": null,
   "id": "405621da",
   "metadata": {},
   "outputs": [],
   "source": [
    "\"\"\"Rectangular reinforced concrete cross-section example.\"\"\"\n",
    "\n",
    "from blueprints.materials.concrete import ConcreteMaterial, ConcreteStrengthClass\n",
    "from blueprints.materials.reinforcement_steel import ReinforcementSteelMaterial, ReinforcementSteelQuality\n",
    "from blueprints.structural_sections.concrete.covers import CoversRectangular\n",
    "from blueprints.structural_sections.concrete.reinforced_concrete_sections.rectangular import RectangularReinforcedCrossSection"
   ]
  },
  {
   "cell_type": "markdown",
   "id": "055a8ead",
   "metadata": {},
   "source": [
    "## Define Materials\n",
    "\n",
    "Next, we'll define the concrete and reinforcement steel materials:"
   ]
  },
  {
   "cell_type": "code",
   "execution_count": null,
   "id": "61fa6ccd",
   "metadata": {},
   "outputs": [],
   "source": [
    "# Define a concrete material\n",
    "concrete = ConcreteMaterial(concrete_class=ConcreteStrengthClass.C35_45)\n",
    "\n",
    "# Define a reinforcement steel material\n",
    "steel = ReinforcementSteelMaterial(steel_quality=ReinforcementSteelQuality.B500B)"
   ]
  },
  {
   "cell_type": "markdown",
   "id": "b446bb5a",
   "metadata": {},
   "source": [
    "## Create the Rectangular Cross-section\n",
    "\n",
    "Now we'll create the rectangular cross-section with custom covers for each edge:"
   ]
  },
  {
   "cell_type": "code",
   "execution_count": null,
   "id": "a5091c02",
   "metadata": {},
   "outputs": [],
   "source": [
    "# Define a rectangular reinforced cross-section\n",
    "cs = RectangularReinforcedCrossSection(\n",
    "    width=1000,\n",
    "    height=800,\n",
    "    covers=CoversRectangular(upper=45, right=30, lower=35, left=50),\n",
    "    concrete_material=concrete,\n",
    ")"
   ]
  },
  {
   "cell_type": "markdown",
   "id": "f83137a5",
   "metadata": {},
   "source": [
    "## Add Reinforcement to Upper Edge\n",
    "\n",
    "Let's start by adding reinforcement bars to the upper edge:"
   ]
  },
  {
   "cell_type": "code",
   "execution_count": null,
   "id": "6d3f6a5f",
   "metadata": {},
   "outputs": [],
   "source": [
    "# Add reinforcement to the upper edge\n",
    "cs.add_longitudinal_reinforcement_by_quantity(\n",
    "    n=5,\n",
    "    diameter=14,\n",
    "    edge=\"upper\",\n",
    "    material=steel,\n",
    ")"
   ]
  },
  {
   "cell_type": "markdown",
   "id": "6108a9e8",
   "metadata": {},
   "source": [
    "## Add Reinforcement to Lower Edge\n",
    "\n",
    "Now add reinforcement with a larger diameter to the lower edge (tension zone in typical beams):"
   ]
  },
  {
   "cell_type": "code",
   "execution_count": null,
   "id": "b500b0cf",
   "metadata": {},
   "outputs": [],
   "source": [
    "# Add reinforcement to the lower edge\n",
    "cs.add_longitudinal_reinforcement_by_quantity(\n",
    "    n=4,\n",
    "    diameter=40,\n",
    "    edge=\"lower\",\n",
    "    material=steel,\n",
    ")"
   ]
  },
  {
   "cell_type": "markdown",
   "id": "69a48366",
   "metadata": {},
   "source": [
    "## Add Reinforcement to Side Edges\n",
    "\n",
    "Add reinforcement to the left and right edges:"
   ]
  },
  {
   "cell_type": "code",
   "execution_count": null,
   "id": "381aa9bc",
   "metadata": {},
   "outputs": [],
   "source": [
    "# Add reinforcement to the right edge\n",
    "cs.add_longitudinal_reinforcement_by_quantity(\n",
    "    n=5,\n",
    "    diameter=14,\n",
    "    edge=\"right\",\n",
    "    material=steel,\n",
    ")\n",
    "\n",
    "# Add reinforcement to the left edge\n",
    "cs.add_longitudinal_reinforcement_by_quantity(\n",
    "    n=5,\n",
    "    diameter=14,\n",
    "    edge=\"left\",\n",
    "    material=steel,\n",
    ")"
   ]
  },
  {
   "cell_type": "markdown",
   "id": "b9b41cf6",
   "metadata": {},
   "source": [
    "## Add Stirrups - First Layer\n",
    "\n",
    "Add the first layer of stirrups for shear reinforcement:"
   ]
  },
  {
   "cell_type": "code",
   "execution_count": null,
   "id": "4a338720",
   "metadata": {},
   "outputs": [],
   "source": [
    "# Add stirrups to the cross-section (first layer)\n",
    "cs.add_stirrup_along_edges(\n",
    "    diameter=8,\n",
    "    distance=150,\n",
    "    material=steel,\n",
    ")"
   ]
  },
  {
   "cell_type": "markdown",
   "id": "76780cd3",
   "metadata": {},
   "source": [
    "## Add Stirrups - Second Layer\n",
    "\n",
    "Add a second layer of larger stirrups with different spacing:"
   ]
  },
  {
   "cell_type": "code",
   "execution_count": null,
   "id": "8345cb6f",
   "metadata": {},
   "outputs": [],
   "source": [
    "# Add stirrups to the cross-section in the center with a width of 500mm (second layer)\n",
    "cs.add_stirrup_in_center(\n",
    "    diameter=12,\n",
    "    width=500,\n",
    "    distance=300,\n",
    "    material=steel,\n",
    ")"
   ]
  },
  {
   "cell_type": "markdown",
   "id": "261a039a",
   "metadata": {},
   "source": [
    "## Review What We've Built\n",
    "\n",
    "At this point, we have:\n",
    "- ✅ A 1000×800mm rectangular concrete cross-section with custom covers\n",
    "  - Upper cover: 45mm\n",
    "  - Right cover: 30mm\n",
    "  - Lower cover: 35mm\n",
    "  - Left cover: 50mm\n",
    "- ✅ Upper edge: 5 reinforcement bars (14mm diameter)\n",
    "- ✅ Lower edge: 4 reinforcement bars (40mm diameter) - main tension reinforcement\n",
    "- ✅ Side edges: 5 bars each (14mm diameter) for shear resistance\n",
    "- ✅ Two layers of stirrups:\n",
    "  - First layer: 8mm diameter, spaced at 150mm\n",
    "  - Second layer: 12mm diameter with a width of 500mm, spaced at 300mm\n",
    "\n",
    "Now let's see our complete rectangular reinforced concrete cross-section!"
   ]
  },
  {
   "cell_type": "markdown",
   "id": "0a3543db",
   "metadata": {},
   "source": [
    "## Visualize Our Cross-section\n",
    "\n",
    "Finally, let's plot the cross-section to see our complete rectangular design:"
   ]
  },
  {
   "cell_type": "code",
   "execution_count": null,
   "id": "0a2e8014",
   "metadata": {},
   "outputs": [],
   "source": [
    "# Plot the cross-section\n",
    "import matplotlib.pyplot as plt\n",
    "\n",
    "fig = cs.plot(show=False)  # Create the plot but don't show it yet\n",
    "plt.show()"
   ]
  },
  {
   "cell_type": "markdown",
   "id": "e5056e6d",
   "metadata": {},
   "source": [
    "## Summary\n",
    "\n",
    "This example demonstrated how to create rectangular reinforced concrete cross-sections:\n",
    "\n",
    "1. **Import modules** specific to rectangular cross-sections\n",
    "2. **Define materials** (concrete and steel)\n",
    "3. **Create geometry** with custom covers for each edge\n",
    "4. **Add edge reinforcement** with different bar sizes for different structural roles\n",
    "5. **Add multiple stirrup layers** for comprehensive shear reinforcement\n",
    "6. **Visualize the result** showing all reinforcement details\n",
    "\n",
    "Key features of rectangular cross-sections:\n",
    "- **Custom covers** for each edge (upper, right, lower, left)\n",
    "- **Edge-specific reinforcement** allowing different bar arrangements per edge\n",
    "- **Multiple stirrup layers** for complex shear reinforcement schemes\n",
    "- **Asymmetric design** typical of beam cross-sections with tension and compression zones\n",
    "\n",
    "The blueprints library provides support for rectangular cross-sections commonly used in beam and column design!"
   ]
  }
 ],
 "metadata": {
  "kernelspec": {
   "display_name": "venv",
   "language": "python",
   "name": "python3"
  },
  "language_info": {
   "codemirror_mode": {
    "name": "ipython",
    "version": 3
   },
   "file_extension": ".py",
   "mimetype": "text/x-python",
   "name": "python",
   "nbconvert_exporter": "python",
   "pygments_lexer": "ipython3",
   "version": "3.13.2"
  }
 },
 "nbformat": 4,
 "nbformat_minor": 5
}
