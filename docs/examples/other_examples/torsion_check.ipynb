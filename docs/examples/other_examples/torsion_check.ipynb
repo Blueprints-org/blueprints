{
 "cells": [
  {
   "cell_type": "markdown",
   "id": "4dd6d25d",
   "metadata": {},
   "source": [
    "# Torsion check\n",
    "\n",
    "In reinforced concrete design, torsion checks must be carried out together with shear interaction according to Eurocode 2. Torsion induces both shear stresses and twisting moments, which can lead to diagonal tension cracks in the concrete. Therefore, it is essential to ensure that the combined effect of shear and torsion is properly accounted for to maintain the structural integrity and safety of the element.\n",
    "\n",
    "`Blueprints` provides a simple way to check the torsion for a reinforced cross-section using EN 1992-1-1:2004.\n",
    "This example can be followed step by step by first importing the necessary classes and functions."
   ]
  },
  {
   "cell_type": "code",
   "execution_count": null,
   "id": "4b0d685d",
   "metadata": {},
   "outputs": [],
   "source": [
    "from blueprints.checks.torsion_check.torsion_check import TorsionCheck\n",
    "from blueprints.materials.concrete import ConcreteMaterial, ConcreteStrengthClass\n",
    "from blueprints.materials.reinforcement_steel import ReinforcementSteelMaterial, ReinforcementSteelQuality\n",
    "from blueprints.structural_sections.concrete.covers import CoversRectangular\n",
    "from blueprints.structural_sections.concrete.reinforced_concrete_sections.rectangular import RectangularReinforcedCrossSection\n",
    "from blueprints.unit_conversion import KN_TO_N, NMM_TO_KNM"
   ]
  },
  {
   "cell_type": "markdown",
   "id": "462d3623",
   "metadata": {},
   "source": [
    "Define the material properties to be used in the calculation:"
   ]
  },
  {
   "cell_type": "code",
   "execution_count": null,
   "id": "55254625",
   "metadata": {},
   "outputs": [],
   "source": [
    "concrete = ConcreteMaterial(concrete_class=ConcreteStrengthClass.C35_45)\n",
    "steel = ReinforcementSteelMaterial(steel_quality=ReinforcementSteelQuality.B500B)"
   ]
  },
  {
   "cell_type": "markdown",
   "id": "417b56b5",
   "metadata": {},
   "source": [
    "Define a rectangular reinforced cross-section:"
   ]
  },
  {
   "cell_type": "code",
   "execution_count": 8,
   "id": "ec0c3d66",
   "metadata": {},
   "outputs": [],
   "source": [
    "cs = RectangularReinforcedCrossSection(\n",
    "    width=400,\n",
    "    height=600,\n",
    "    covers=CoversRectangular(upper=40, right=40, lower=40, left=40),\n",
    "    concrete_material=concrete,\n",
    ")"
   ]
  },
  {
   "cell_type": "markdown",
   "id": "0e2c58c3",
   "metadata": {},
   "source": [
    "Add reinforcement to the cross-section:"
   ]
  },
  {
   "cell_type": "code",
   "execution_count": null,
   "id": "1599f795",
   "metadata": {},
   "outputs": [],
   "source": [
    "cs.add_longitudinal_reinforcement_by_quantity(\n",
    "    n=2,\n",
    "    diameter=16,\n",
    "    edge=\"upper\",\n",
    "    material=steel,\n",
    ")\n",
    "cs.add_longitudinal_reinforcement_by_quantity(\n",
    "    n=2,\n",
    "    diameter=20,\n",
    "    edge=\"lower\",\n",
    "    material=steel,\n",
    ")\n",
    "\n",
    "cs.add_stirrup_along_edges(diameter=10, distance=200, material=steel, shear_check=True, torsion_check=False)\n",
    "cs.add_stirrup_along_edges(diameter=10, distance=75, material=steel, shear_check=False, torsion_check=True)"
   ]
  },
  {
   "cell_type": "markdown",
   "id": "72f842bd",
   "metadata": {},
   "source": [
    "Define forces and some initial data:"
   ]
  },
  {
   "cell_type": "code",
   "execution_count": 10,
   "id": "0216f840",
   "metadata": {},
   "outputs": [],
   "source": [
    "# Shear force in N\n",
    "v_ed = 327 * KN_TO_N\n",
    "\n",
    "# Torsion moment in Nmm\n",
    "t_ed = 60 / NMM_TO_KNM\n",
    "\n",
    "# Concrete compressive stress in cross-section due to axial loading and/or prestressing, assuming zero for this example\n",
    "sigma_cp = 0\n",
    "\n",
    "# The area of the tensile reinforcement, which extends lbd + d beyond the section considered\n",
    "a_sl = 0"
   ]
  },
  {
   "cell_type": "markdown",
   "id": "1bac0dfa",
   "metadata": {},
   "source": [
    "Run the check:"
   ]
  },
  {
   "cell_type": "code",
   "execution_count": null,
   "id": "4b4847ed",
   "metadata": {},
   "outputs": [],
   "source": [
    "torsion_check = TorsionCheck(cs=cs, sigma_cp=sigma_cp, a_sl=a_sl, v_ed=v_ed, t_ed=t_ed).check()"
   ]
  },
  {
   "cell_type": "markdown",
   "id": "f2e55c19",
   "metadata": {},
   "source": [
    "You could also use the `TorsionCheck` to get a latex representation of the calculation by using:"
   ]
  },
  {
   "cell_type": "code",
   "execution_count": null,
   "id": "5fde9ecd",
   "metadata": {},
   "outputs": [],
   "source": [
    "print(torsion_check.latex())"
   ]
  }
 ],
 "metadata": {
  "kernelspec": {
   "display_name": "Python 3",
   "language": "python",
   "name": "python3"
  },
  "language_info": {
   "codemirror_mode": {
    "name": "ipython",
    "version": 3
   },
   "file_extension": ".py",
   "mimetype": "text/x-python",
   "name": "python",
   "nbconvert_exporter": "python",
   "pygments_lexer": "ipython3",
   "version": "3.13.5"
  }
 },
 "nbformat": 4,
 "nbformat_minor": 5
}
