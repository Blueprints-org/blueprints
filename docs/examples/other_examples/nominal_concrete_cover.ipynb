{
 "cells": [
  {
   "cell_type": "markdown",
   "id": "4dd6d25d",
   "metadata": {},
   "source": [
    "# Nominal Concrete Cover\n",
    "\n",
    "Calculating the nominal concrete cover is an important step in the design of reinforced concrete structures.\n",
    "The nominal concrete cover is the minimum thickness of concrete that separates the reinforcing steel from the environment.\n",
    "This thickness is necessary to protect the steel from corrosion and to ensure the durability of the structure.\n",
    "\n",
    "`Blueprints` provides a simple way to calculate the nominal concrete cover using EN 1992-1-1:2004.\n",
    "This example can be followed step by step by first importing the necessary classes and functions."
   ]
  },
  {
   "cell_type": "code",
   "execution_count": null,
   "id": "4b0d685d",
   "metadata": {},
   "outputs": [],
   "source": [
    "from blueprints.checks.nominal_concrete_cover.nominal_concrete_cover import NominalConcreteCover\n",
    "from blueprints.codes.eurocode.en_1992_1_1_2004.chapter_4_durability_and_cover.constants import (\n",
    "    AbrasionClass,\n",
    "    CastingSurface,\n",
    "    NominalConcreteCoverConstants,\n",
    ")\n",
    "from blueprints.codes.eurocode.en_1992_1_1_2004.chapter_4_durability_and_cover.table_4_3 import Table4Dot3ConcreteStructuralClass\n",
    "from blueprints.materials.concrete import ConcreteMaterial, ConcreteStrengthClass"
   ]
  },
  {
   "cell_type": "markdown",
   "id": "462d3623",
   "metadata": {},
   "source": [
    "Define the concrete material properties to be used in the calculation:"
   ]
  },
  {
   "cell_type": "code",
   "execution_count": null,
   "id": "55254625",
   "metadata": {},
   "outputs": [],
   "source": [
    "concrete_material = ConcreteMaterial(concrete_class=ConcreteStrengthClass.C30_37)"
   ]
  },
  {
   "cell_type": "markdown",
   "id": "417b56b5",
   "metadata": {},
   "source": [
    "Calculate the structural class by its exposure classes, design working life and other parameters:"
   ]
  },
  {
   "cell_type": "code",
   "execution_count": null,
   "id": "ec0c3d66",
   "metadata": {},
   "outputs": [],
   "source": [
    "structural_class = Table4Dot3ConcreteStructuralClass(\n",
    "    exposure_classes=[\"XC1\"],\n",
    "    design_working_life=100,\n",
    "    concrete_material=concrete_material,\n",
    "    plate_geometry=False,\n",
    "    quality_control=False,\n",
    ")"
   ]
  },
  {
   "cell_type": "markdown",
   "id": "0e2c58c3",
   "metadata": {},
   "source": [
    "Start the nominal concrete cover calculation:"
   ]
  },
  {
   "cell_type": "code",
   "execution_count": null,
   "id": "1599f795",
   "metadata": {},
   "outputs": [],
   "source": [
    "calculation = NominalConcreteCover(\n",
    "    reinforcement_diameter=32,\n",
    "    nominal_max_aggregate_size=32,\n",
    "    constants=NominalConcreteCoverConstants(),\n",
    "    structural_class=structural_class,  # or by its number, for example 4 in the case of S4\n",
    "    carbonation=\"XC1\",\n",
    "    delta_c_dur_gamma=10,\n",
    "    delta_c_dur_add=0,\n",
    "    casting_surface=CastingSurface.PREPARED_GROUND,\n",
    "    uneven_surface=False,\n",
    "    abrasion_class=AbrasionClass.NA,\n",
    ")"
   ]
  },
  {
   "cell_type": "markdown",
   "id": "72f842bd",
   "metadata": {},
   "source": [
    "Then just print the results:"
   ]
  },
  {
   "cell_type": "code",
   "execution_count": null,
   "id": "0216f840",
   "metadata": {},
   "outputs": [],
   "source": [
    "print(\n",
    "    f\"Structural class: {structural_class}\\n\\n\"\n",
    "    f\"C,min,dur: {calculation.c_min_dur()} mm\\n\"\n",
    "    f\"C,min,b: {calculation.c_min_b()} mm\\n\"\n",
    "    f\"C,min,total: {calculation.c_min_total()} mm\\n\"\n",
    "    f\"\\tCover increase due to uneven surface: {calculation.cover_increase_for_uneven_surface()} mm\\n\"\n",
    "    f\"\\tCover increase due to abrasion: {calculation.cover_increase_for_abrasion_class()} mm\\n\\n\"\n",
    "    f\"Nominal concrete cover: {calculation.value()} mm\\n\"\n",
    "    f\"\\tC,nom: {calculation.c_nom()} mm\\n\"\n",
    "    f\"\\tMinimum cover with regard to casting surface: {calculation.minimum_cover_with_regard_to_casting_surface()} mm\\n\\n\"\n",
    ")"
   ]
  },
  {
   "cell_type": "markdown",
   "id": "1bac0dfa",
   "metadata": {},
   "source": [
    "You could also use the `NominalConcreteCover` to get a latex representation of the calculation by using:"
   ]
  },
  {
   "cell_type": "code",
   "execution_count": null,
   "id": "4b4847ed",
   "metadata": {},
   "outputs": [],
   "source": [
    "print(calculation.latex())"
   ]
  },
  {
   "cell_type": "markdown",
   "id": "36c64935",
   "metadata": {},
   "source": [
    "You could use an external service like [lagrida](https://latexeditor.lagrida.com/) to render the latex code or use this output inside a latex or word document of your choice."
   ]
  }
 ],
 "metadata": {
  "kernelspec": {
   "display_name": "blueprints",
   "language": "python",
   "name": "python3"
  },
  "language_info": {
   "codemirror_mode": {
    "name": "ipython",
    "version": 3
   },
   "file_extension": ".py",
   "mimetype": "text/x-python",
   "name": "python",
   "nbconvert_exporter": "python",
   "pygments_lexer": "ipython3",
   "version": "3.12.10"
  }
 },
 "nbformat": 4,
 "nbformat_minor": 5
}
