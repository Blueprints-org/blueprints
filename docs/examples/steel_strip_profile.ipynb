{
 "cells": [
  {
   "cell_type": "markdown",
   "id": "6fa7e265",
   "metadata": {},
   "source": [
    "# Steel Profile Shapes Demonstration\n",
    "\n",
    "This notebook demonstrates how to create and visualize strip steel profile shapes using the Blueprints library. Steel profiles are essential components in structural engineering, and their properties are critical for designing safe and efficient structures. The Blueprints library provides predefined standard profiles as well as the ability to define custom profiles.\n",
    "\n",
    "We will:\n",
    "- Import required libraries and modules\n",
    "- Define a steel material\n",
    "- Create and plot both standard and custom strip profiles\n",
    "- Access and display their section properties"
   ]
  },
  {
   "cell_type": "markdown",
   "id": "5eba957d",
   "metadata": {},
   "source": [
    "## 1. Import Required Libraries and Modules\n",
    "\n",
    "First, import matplotlib and the relevant classes from the Blueprints library for steel materials and profiles."
   ]
  },
  {
   "cell_type": "code",
   "execution_count": null,
   "id": "1b3877d1",
   "metadata": {},
   "outputs": [],
   "source": [
    "import matplotlib.pyplot as plt\n",
    "\n",
    "from blueprints.codes.eurocode.en_1993_1_1_2005.chapter_3_materials.table_3_1 import SteelStrengthClass\n",
    "from blueprints.materials.steel import SteelMaterial\n",
    "from blueprints.structural_sections.steel.steel_cross_sections.standard_profiles.strip import Strip\n",
    "from blueprints.structural_sections.steel.steel_cross_sections.strip_profile import StripSteelProfile"
   ]
  },
  {
   "cell_type": "markdown",
   "id": "6c1dbaa8",
   "metadata": {},
   "source": [
    "## 2. Define Steel Material\n",
    "\n",
    "Next, create a `SteelMaterial` instance using the S355 steel strength class. This material will be used for the strip profiles."
   ]
  },
  {
   "cell_type": "code",
   "execution_count": null,
   "id": "6c1717cd",
   "metadata": {},
   "outputs": [],
   "source": [
    "steel_material = SteelMaterial(steel_class=SteelStrengthClass.S355)"
   ]
  },
  {
   "cell_type": "markdown",
   "id": "d1ebf3a6",
   "metadata": {},
   "source": [
    "## 3. Create Standard Strip Profile\n",
    "\n",
    "Instantiate a standard `StripSteelProfile` using a predefined profile and the steel material. Here, we use the `STRIP160x5` profile and apply a corrosion allowance."
   ]
  },
  {
   "cell_type": "code",
   "execution_count": null,
   "id": "f327cd97",
   "metadata": {},
   "outputs": [],
   "source": [
    "strip_profile = StripSteelProfile.from_standard_profile(\n",
    "    profile=Strip.STRIP160x5,\n",
    "    steel_material=steel_material,\n",
    "    corrosion=1,  # mm\n",
    ")"
   ]
  },
  {
   "cell_type": "markdown",
   "id": "f80c6e8d",
   "metadata": {},
   "source": [
    "## 4. Plot Standard Strip Profile\n",
    "\n",
    "Generate a plot of the standard strip profile using the `plot()` method. The plot will be displayed later with `plt.show()`."
   ]
  },
  {
   "cell_type": "code",
   "execution_count": null,
   "id": "39f6c618",
   "metadata": {},
   "outputs": [],
   "source": [
    "strip_profile.plot(show=False)"
   ]
  },
  {
   "cell_type": "markdown",
   "id": "858914c8",
   "metadata": {},
   "source": [
    "## 5. Access Standard Strip Profile Properties\n",
    "\n",
    "Retrieve and display the section properties of the standard strip profile using the `section_properties()` method."
   ]
  },
  {
   "cell_type": "code",
   "execution_count": null,
   "id": "d5dce983",
   "metadata": {},
   "outputs": [],
   "source": [
    "print(strip_profile.section_properties())"
   ]
  },
  {
   "cell_type": "markdown",
   "id": "c24788a2",
   "metadata": {},
   "source": [
    "## 6. Create Custom Strip Profile\n",
    "\n",
    "You can also define a custom strip profile by specifying its width and height, along with the steel material."
   ]
  },
  {
   "cell_type": "code",
   "execution_count": null,
   "id": "8037c2ed",
   "metadata": {},
   "outputs": [],
   "source": [
    "custom_strip_profile = StripSteelProfile(\n",
    "    strip_width=100,\n",
    "    strip_height=41,\n",
    "    steel_material=steel_material,\n",
    ")"
   ]
  },
  {
   "cell_type": "markdown",
   "id": "0337d366",
   "metadata": {},
   "source": [
    "## 7. Plot Custom Strip Profile\n",
    "\n",
    "Generate a plot of the custom strip profile using the `plot()` method. The plot will be displayed later with `plt.show()`."
   ]
  },
  {
   "cell_type": "code",
   "execution_count": null,
   "id": "78e388a9",
   "metadata": {},
   "outputs": [],
   "source": [
    "custom_strip_profile.plot(show=False)"
   ]
  },
  {
   "cell_type": "markdown",
   "id": "701aa03b",
   "metadata": {},
   "source": [
    "## 8. Access Custom Strip Profile Properties\n",
    "\n",
    "Retrieve and display the section properties of the custom strip profile using the `section_properties()` method."
   ]
  },
  {
   "cell_type": "code",
   "execution_count": null,
   "id": "41a01a6a",
   "metadata": {},
   "outputs": [],
   "source": [
    "print(custom_strip_profile.section_properties())"
   ]
  },
  {
   "cell_type": "markdown",
   "id": "959f28ee",
   "metadata": {},
   "source": [
    "## 9. Show All Plots\n",
    "\n",
    "Finally, call `plt.show()` to display all generated plots for both standard and custom strip profiles."
   ]
  },
  {
   "cell_type": "code",
   "execution_count": null,
   "id": "72779558",
   "metadata": {},
   "outputs": [],
   "source": [
    "plt.show()"
   ]
  }
 ],
 "metadata": {
  "kernelspec": {
   "display_name": ".venv (3.13.2)",
   "language": "python",
   "name": "python3"
  },
  "language_info": {
   "codemirror_mode": {
    "name": "ipython",
    "version": 3
   },
   "file_extension": ".py",
   "mimetype": "text/x-python",
   "name": "python",
   "nbconvert_exporter": "python",
   "pygments_lexer": "ipython3",
   "version": "3.13.2"
  }
 },
 "nbformat": 4,
 "nbformat_minor": 5
}
