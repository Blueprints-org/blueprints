{
 "cells": [
  {
   "cell_type": "markdown",
   "id": "602ecbe5",
   "metadata": {},
   "source": [
    "# Create a Custom Circular Cross-section\n",
    "\n",
    "This example demonstrates how to create a custom circular reinforced concrete cross-section with more advanced reinforcement configurations using the blueprints library.\n",
    "\n",
    "We'll build upon the basic circular cross-section by adding custom reinforcement patterns, including diagonal reinforcement lines and center rebars.\n",
    "\n",
    "Let's start building our custom design!"
   ]
  },
  {
   "cell_type": "markdown",
   "id": "f07e3321",
   "metadata": {},
   "source": [
    "## Import Required Libraries\n",
    "\n",
    "First, let's import the necessary modules, including some additional ones for custom configurations:"
   ]
  },
  {
   "cell_type": "code",
   "execution_count": null,
   "id": "aca7149e",
   "metadata": {},
   "outputs": [],
   "source": [
    "\"\"\"Custom reinforced concrete cross-section example.\"\"\"\n",
    "\n",
    "from shapely import LineString\n",
    "\n",
    "from blueprints.materials.concrete import ConcreteMaterial, ConcreteStrengthClass\n",
    "from blueprints.materials.reinforcement_steel import ReinforcementSteelMaterial, ReinforcementSteelQuality\n",
    "from blueprints.structural_sections.concrete.rebar import Rebar\n",
    "from blueprints.structural_sections.concrete.reinforced_concrete_sections.circular import CircularReinforcedCrossSection, ReinforcementByQuantity"
   ]
  },
  {
   "cell_type": "markdown",
   "id": "e4f3234a",
   "metadata": {},
   "source": [
    "## Define Materials\n",
    "\n",
    "Next, we'll define the concrete and reinforcement steel materials:"
   ]
  },
  {
   "cell_type": "code",
   "execution_count": null,
   "id": "790d6495",
   "metadata": {},
   "outputs": [],
   "source": [
    "# Define a concrete material\n",
    "concrete = ConcreteMaterial(concrete_class=ConcreteStrengthClass.C35_45)\n",
    "\n",
    "# Define a reinforcement steel material\n",
    "steel = ReinforcementSteelMaterial(steel_quality=ReinforcementSteelQuality.B500B)"
   ]
  },
  {
   "cell_type": "markdown",
   "id": "6201b099",
   "metadata": {},
   "source": [
    "## Create the Basic Cross-section\n",
    "\n",
    "Let's start with the same circular cross-section as in the basic example:"
   ]
  },
  {
   "cell_type": "code",
   "execution_count": null,
   "id": "d19d8dcb",
   "metadata": {},
   "outputs": [],
   "source": [
    "# Define a circular reinforced cross-section\n",
    "cs = CircularReinforcedCrossSection(\n",
    "    diameter=400,\n",
    "    cover=35,\n",
    "    concrete_material=concrete,\n",
    ")"
   ]
  },
  {
   "cell_type": "markdown",
   "id": "a8ecfa59",
   "metadata": {},
   "source": [
    "## Add Standard Longitudinal Reinforcement\n",
    "\n",
    "First, let's add the standard perimeter reinforcement:"
   ]
  },
  {
   "cell_type": "code",
   "execution_count": null,
   "id": "40ef260c",
   "metadata": {},
   "outputs": [],
   "source": [
    "# Add longitudinal reinforcement to the cross-section\n",
    "cs.add_longitudinal_reinforcement_by_quantity(\n",
    "    n=5,\n",
    "    diameter=25,\n",
    "    material=steel,\n",
    ")\n",
    "\n",
    "# Add additional longitudinal reinforcement to the cross-section\n",
    "cs.add_longitudinal_reinforcement_by_quantity(\n",
    "    n=5,\n",
    "    diameter=16,\n",
    "    material=steel,\n",
    "    start_angle=45,\n",
    ")"
   ]
  },
  {
   "cell_type": "markdown",
   "id": "5adb27dd",
   "metadata": {},
   "source": [
    "## Add Stirrups\n",
    "\n",
    "Add stirrups around the perimeter:"
   ]
  },
  {
   "cell_type": "code",
   "execution_count": null,
   "id": "70d5a459",
   "metadata": {},
   "outputs": [],
   "source": [
    "# Add stirrups to the cross-section\n",
    "cs.add_stirrup_along_perimeter(\n",
    "    diameter=10,\n",
    "    distance=150,\n",
    "    material=steel,\n",
    ")"
   ]
  },
  {
   "cell_type": "markdown",
   "id": "ccace9a8",
   "metadata": {},
   "source": [
    "## Add Custom Diagonal Reinforcement\n",
    "\n",
    "Now for the custom part - let's add reinforcement along a diagonal line using Shapely geometry:"
   ]
  },
  {
   "cell_type": "code",
   "execution_count": null,
   "id": "76144cc9",
   "metadata": {},
   "outputs": [],
   "source": [
    "# Add reinforcement configuration to the cross-section in a diagonal line\n",
    "linestring = LineString([(-100, 100), (100, 0)])\n",
    "cs.add_reinforcement_configuration(\n",
    "    line=linestring,\n",
    "    configuration=ReinforcementByQuantity(\n",
    "        diameter=12,\n",
    "        n=7,\n",
    "        material=steel,\n",
    "    ),\n",
    ")"
   ]
  },
  {
   "cell_type": "markdown",
   "id": "3e77172d",
   "metadata": {},
   "source": [
    "## Add Center Rebar\n",
    "\n",
    "Finally, let's add a single rebar at the center of the cross-section:"
   ]
  },
  {
   "cell_type": "code",
   "execution_count": null,
   "id": "84e0d39b",
   "metadata": {},
   "outputs": [],
   "source": [
    "# Add longitudinal rebar in center\n",
    "cs.add_longitudinal_rebar(rebar=Rebar(diameter=16, x=0, y=0, material=steel))"
   ]
  },
  {
   "cell_type": "markdown",
   "id": "c3c2459e",
   "metadata": {},
   "source": [
    "## Review Our Custom Design\n",
    "\n",
    "At this point, our custom cross-section includes:\n",
    "- ✅ A 400mm diameter circular concrete cross-section with 35mm cover\n",
    "- ✅ 5 longitudinal reinforcement bars (25mm diameter) around the perimeter\n",
    "- ✅ 5 additional reinforcement bars (16mm diameter, offset by 45°)\n",
    "- ✅ Stirrups (10mm diameter, spaced at 150mm intervals)\n",
    "- ✅ Custom diagonal reinforcement (7 bars of 12mm diameter along a diagonal line)\n",
    "- ✅ Center rebar (16mm diameter at the center)\n",
    "\n",
    "Now let's see our complete custom reinforced concrete cross-section!"
   ]
  },
  {
   "cell_type": "markdown",
   "id": "df26b92b",
   "metadata": {},
   "source": [
    "## Visualize Our Cross-section\n",
    "\n",
    "Let's plot the cross-section to see our custom design with all the additional reinforcement:"
   ]
  },
  {
   "cell_type": "code",
   "execution_count": null,
   "id": "676573c8",
   "metadata": {},
   "outputs": [],
   "source": [
    "# Plot the cross-section\n",
    "import matplotlib.pyplot as plt\n",
    "\n",
    "fig = cs.plot(show=False)  # Create the plot but don't show it yet\n",
    "plt.show()"
   ]
  },
  {
   "cell_type": "markdown",
   "id": "63454436",
   "metadata": {},
   "source": [
    "## Summary\n",
    "\n",
    "This example demonstrated advanced customization capabilities:\n",
    "\n",
    "1. **Basic Setup**: Import modules and define materials\n",
    "2. **Standard Reinforcement**: Create circular cross-section with perimeter rebars and stirrups\n",
    "3. **Custom Geometry**: Use Shapely LineString to define diagonal reinforcement paths\n",
    "4. **Advanced Configuration**: Add reinforcement along custom geometric lines\n",
    "5. **Precise Placement**: Add individual rebars at specific coordinates\n",
    "6. **Visualization**: Display the complete custom design\n",
    "\n",
    "The blueprints library provides flexibility to create any custom reinforcement pattern you need, combining standard methods with geometric precision for complex designs!"
   ]
  }
 ],
 "metadata": {
  "kernelspec": {
   "display_name": "venv",
   "language": "python",
   "name": "python3"
  },
  "language_info": {
   "codemirror_mode": {
    "name": "ipython",
    "version": 3
   },
   "file_extension": ".py",
   "mimetype": "text/x-python",
   "name": "python",
   "nbconvert_exporter": "python",
   "pygments_lexer": "ipython3",
   "version": "3.13.2"
  }
 },
 "nbformat": 4,
 "nbformat_minor": 5
}
