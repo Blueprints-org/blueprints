{
 "cells": [
  {
   "cell_type": "markdown",
   "id": "3f070bc6",
   "metadata": {},
   "source": [
    "# Create a Custom Rectangular Reinforced Cross-section\n",
    "\n",
    "This example demonstrates how to create a custom rectangular reinforced concrete cross-section with advanced reinforcement configurations using blueprints.\n",
    "\n",
    "We'll build upon the basic rectangular cross-section by adding multiple reinforcement layers, custom geometric reinforcement patterns, advanced stirrup configurations, and precise rebar placement.\n",
    "\n",
    "Let's begin with the setup."
   ]
  },
  {
   "cell_type": "markdown",
   "id": "eef9d5f5",
   "metadata": {},
   "source": [
    "## Import Required Libraries\n",
    "\n",
    "First, let's import the necessary modules, including advanced configuration classes:"
   ]
  },
  {
   "cell_type": "code",
   "execution_count": null,
   "id": "7638f94d",
   "metadata": {},
   "outputs": [],
   "source": [
    "\"\"\"Custom rectangular reinforced cross-section example.\"\"\"\n",
    "\n",
    "from shapely import LineString, Polygon\n",
    "\n",
    "from blueprints.materials.concrete import ConcreteMaterial, ConcreteStrengthClass\n",
    "from blueprints.materials.reinforcement_steel import ReinforcementSteelMaterial, ReinforcementSteelQuality\n",
    "from blueprints.structural_sections.concrete.covers import CoversRectangular\n",
    "from blueprints.structural_sections.concrete.rebar import Rebar\n",
    "from blueprints.structural_sections.concrete.reinforced_concrete_sections.rectangular import RectangularReinforcedCrossSection\n",
    "from blueprints.structural_sections.concrete.reinforced_concrete_sections.reinforcement_configurations import (\n",
    "    ReinforcementByDistance,\n",
    "    ReinforcementByQuantity,\n",
    ")\n",
    "from blueprints.structural_sections.concrete.stirrups import StirrupConfiguration"
   ]
  },
  {
   "cell_type": "markdown",
   "id": "42aed717",
   "metadata": {},
   "source": [
    "## Define Materials\n",
    "\n",
    "Let's define the concrete and reinforcement steel materials:"
   ]
  },
  {
   "cell_type": "code",
   "execution_count": null,
   "id": "51c5c0ab",
   "metadata": {},
   "outputs": [],
   "source": [
    "# Define a concrete material\n",
    "concrete = ConcreteMaterial(concrete_class=ConcreteStrengthClass.C30_37)\n",
    "\n",
    "# Define a reinforcement steel material\n",
    "steel = ReinforcementSteelMaterial(steel_quality=ReinforcementSteelQuality.B500B)"
   ]
  },
  {
   "cell_type": "markdown",
   "id": "3308bc6b",
   "metadata": {},
   "source": [
    "## Create the Basic Rectangular Cross-section\n",
    "\n",
    "Let's start with a rectangular cross-section with custom covers:"
   ]
  },
  {
   "cell_type": "code",
   "execution_count": null,
   "id": "eba75614",
   "metadata": {},
   "outputs": [],
   "source": [
    "# Define a rectangular reinforced cross-section\n",
    "cs = RectangularReinforcedCrossSection(\n",
    "    width=600,\n",
    "    height=500,\n",
    "    covers=CoversRectangular(upper=45, right=30, lower=35, left=50),\n",
    "    concrete_material=concrete,\n",
    ")"
   ]
  },
  {
   "cell_type": "markdown",
   "id": "4181fc58",
   "metadata": {},
   "source": [
    "## Add First Layer of Upper Reinforcement\n",
    "\n",
    "Start with standard reinforcement along the upper edge:"
   ]
  },
  {
   "cell_type": "code",
   "execution_count": null,
   "id": "4bb2d07b",
   "metadata": {},
   "outputs": [],
   "source": [
    "# Add reinforcement to the upper edge (first layer)\n",
    "cs.add_longitudinal_reinforcement_by_quantity(\n",
    "    n=5,\n",
    "    diameter=14,\n",
    "    edge=\"upper\",\n",
    "    material=steel,\n",
    ")"
   ]
  },
  {
   "cell_type": "markdown",
   "id": "9a4e3f25",
   "metadata": {},
   "source": [
    "## Add Second Layer of Upper Reinforcement\n",
    "\n",
    "Now add a second layer with custom cover distance - this shows how to create multiple reinforcement layers:"
   ]
  },
  {
   "cell_type": "code",
   "execution_count": null,
   "id": "2bda73f5",
   "metadata": {},
   "outputs": [],
   "source": [
    "# Add a second layer of reinforcement to the upper edge\n",
    "cs.add_longitudinal_reinforcement_by_quantity(\n",
    "    n=3,\n",
    "    diameter=16,\n",
    "    edge=\"upper\",\n",
    "    material=steel,\n",
    "    cover=100,  # Custom cover distance for second layer\n",
    ")"
   ]
  },
  {
   "cell_type": "markdown",
   "id": "21f4ddfc",
   "metadata": {},
   "source": [
    "## Add Custom Diagonal Reinforcement - By Quantity\n",
    "\n",
    "Add reinforcement along a custom diagonal line using geometric positioning:"
   ]
  },
  {
   "cell_type": "code",
   "execution_count": null,
   "id": "b503fa6a",
   "metadata": {},
   "outputs": [],
   "source": [
    "# Add reinforcement configuration along a diagonal line (by quantity)\n",
    "cs.add_reinforcement_configuration(\n",
    "    line=LineString([(50, -100), (150, 50)]),\n",
    "    configuration=ReinforcementByQuantity(diameter=20, n=3, material=steel),\n",
    ")"
   ]
  },
  {
   "cell_type": "markdown",
   "id": "098bc45c",
   "metadata": {},
   "source": [
    "## Add Custom Diagonal Reinforcement - By Distance\n",
    "\n",
    "Add another diagonal reinforcement line, but this time using spacing-based configuration:"
   ]
  },
  {
   "cell_type": "code",
   "execution_count": null,
   "id": "c249629e",
   "metadata": {},
   "outputs": [],
   "source": [
    "# Add reinforcement configuration along another diagonal line (by distance)\n",
    "cs.add_reinforcement_configuration(\n",
    "    line=LineString([(0, -180), (-250, 0)]),\n",
    "    configuration=ReinforcementByDistance(diameter=12, center_to_center=40, material=steel),\n",
    ")"
   ]
  },
  {
   "cell_type": "markdown",
   "id": "d7b80703",
   "metadata": {},
   "source": [
    "## Add Custom Stirrup Configuration\n",
    "\n",
    "Create a custom stirrup using polygon geometry instead of standard edge-based stirrups:"
   ]
  },
  {
   "cell_type": "code",
   "execution_count": null,
   "id": "9166d475",
   "metadata": {},
   "outputs": [],
   "source": [
    "# Add custom stirrup configuration using polygon geometry\n",
    "cs.add_stirrup_configuration(\n",
    "    stirrup=StirrupConfiguration(\n",
    "        geometry=Polygon([(-200, -200), (-200, 200), (200, 200), (200, -200)]),\n",
    "        diameter=8,\n",
    "        distance=150,\n",
    "        material=steel,\n",
    "    ),\n",
    ")"
   ]
  },
  {
   "cell_type": "markdown",
   "id": "3349982b",
   "metadata": {},
   "source": [
    "## Add Center Point Rebar\n",
    "\n",
    "Finally, add a single rebar at the center of the cross-section:"
   ]
  },
  {
   "cell_type": "code",
   "execution_count": null,
   "id": "1eb78929",
   "metadata": {},
   "outputs": [],
   "source": [
    "# Add a longitudinal rebar at the center\n",
    "cs.add_longitudinal_rebar(\n",
    "    rebar=Rebar(\n",
    "        diameter=12,\n",
    "        x=0,\n",
    "        y=0,\n",
    "        material=steel,\n",
    "    )\n",
    ")"
   ]
  },
  {
   "cell_type": "markdown",
   "id": "54547e99",
   "metadata": {},
   "source": [
    "## Review Our Custom Design\n",
    "\n",
    "At this point, our custom rectangular cross-section includes:\n",
    "- ✅ A 600×500mm rectangular concrete cross-section (C30/37)\n",
    "- ✅ Double-layer upper reinforcement:\n",
    "  - First layer: 5 bars × 14mm diameter\n",
    "  - Second layer: 3 bars × 16mm diameter (custom cover)\n",
    "- ✅ Custom diagonal reinforcement patterns:\n",
    "  - Line 1: 3 bars × 20mm diameter (quantity-based)\n",
    "  - Line 2: 12mm diameter bars spaced 40mm center-to-center (distance-based)\n",
    "- ✅ Custom polygon stirrup (8mm diameter, 150mm spacing)\n",
    "- ✅ Center point rebar (12mm diameter at origin)\n",
    "\n",
    "This demonstrates the flexibility available for custom reinforcement configurations."
   ]
  },
  {
   "cell_type": "markdown",
   "id": "35d1eac8",
   "metadata": {},
   "source": [
    "## Visualize the Cross-section\n",
    "\n",
    "Let's plot the cross-section to see the complete design:"
   ]
  },
  {
   "cell_type": "code",
   "execution_count": null,
   "id": "64699c4c",
   "metadata": {},
   "outputs": [],
   "source": [
    "# Plot the cross-section\n",
    "import matplotlib.pyplot as plt\n",
    "\n",
    "fig = cs.plot(show=False)  # Create the plot but don't show it yet\n",
    "plt.show()"
   ]
  },
  {
   "cell_type": "markdown",
   "id": "37747abe",
   "metadata": {},
   "source": [
    "## Summary\n",
    "\n",
    "This example demonstrated advanced customization capabilities for rectangular cross-sections:\n",
    "\n",
    "1. **Advanced Imports**: Shapely geometry, custom reinforcement configurations, and stirrup classes\n",
    "2. **Multi-layer Reinforcement**: Different reinforcement layers with custom cover distances\n",
    "3. **Geometric Reinforcement**: Custom lines using LineString for diagonal patterns\n",
    "4. **Configuration Types**:\n",
    "   - `ReinforcementByQuantity`: Specify exact number of bars\n",
    "   - `ReinforcementByDistance`: Specify center-to-center spacing of bars\n",
    "5. **Custom Stirrups**: Polygon-based stirrup geometry instead of edge-following\n",
    "6. **Precise Placement**: Individual rebar placement at exact coordinates\n",
    "\n",
    "### Key Features:\n",
    "- Multiple reinforcement layers at different depths\n",
    "- Arbitrary geometric reinforcement paths using Shapely\n",
    "- Mixed configuration strategies (quantity vs. distance based)\n",
    "- Custom stirrup geometries beyond standard rectangular shapes\n",
    "- Point-precise rebar placement for special requirements\n",
    "\n",
    "Blueprints provides flexibility for creating custom reinforcement patterns beyond standard configurations."
   ]
  }
 ],
 "metadata": {
  "kernelspec": {
   "display_name": "venv",
   "language": "python",
   "name": "python3"
  },
  "language_info": {
   "codemirror_mode": {
    "name": "ipython",
    "version": 3
   },
   "file_extension": ".py",
   "mimetype": "text/x-python",
   "name": "python",
   "nbconvert_exporter": "python",
   "pygments_lexer": "ipython3",
   "version": "3.13.2"
  }
 },
 "nbformat": 4,
 "nbformat_minor": 5
}
