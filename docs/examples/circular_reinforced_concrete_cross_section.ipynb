{
 "cells": [
  {
   "cell_type": "markdown",
   "id": "71d5adec",
   "metadata": {},
   "source": [
    "# Create a Circular Reinforced Cross-section\n",
    "\n",
    "This example demonstrates how to create a circular reinforced concrete cross-section step by step using the blueprints library. \n",
    "\n",
    "We'll start by defining materials, create the basic cross-section geometry, add reinforcement bars, include stirrups, and finally visualize our complete design.\n",
    "\n",
    "Let's begin!"
   ]
  },
  {
   "cell_type": "markdown",
   "id": "3584e26a",
   "metadata": {},
   "source": [
    "## Import Required Libraries\n",
    "\n",
    "First, let's import the necessary modules from the blueprints library:"
   ]
  },
  {
   "cell_type": "code",
   "execution_count": null,
   "id": "72f9785a",
   "metadata": {},
   "outputs": [],
   "source": [
    "\"\"\"Reinforced concrete cross-section example.\"\"\"\n",
    "\n",
    "from blueprints.materials.concrete import ConcreteMaterial, ConcreteStrengthClass\n",
    "from blueprints.materials.reinforcement_steel import ReinforcementSteelMaterial, ReinforcementSteelQuality\n",
    "from blueprints.structural_sections.concrete.reinforced_concrete_sections.circular import CircularReinforcedCrossSection"
   ]
  },
  {
   "cell_type": "markdown",
   "id": "142dfe5c",
   "metadata": {},
   "source": [
    "## Define Materials\n",
    "\n",
    "Next, we'll define the concrete and reinforcement steel materials:"
   ]
  },
  {
   "cell_type": "code",
   "execution_count": null,
   "id": "66ee6b06",
   "metadata": {},
   "outputs": [],
   "source": [
    "# Define a concrete material\n",
    "concrete = ConcreteMaterial(concrete_class=ConcreteStrengthClass.C35_45)\n",
    "\n",
    "# Define a reinforcement steel material\n",
    "steel = ReinforcementSteelMaterial(steel_quality=ReinforcementSteelQuality.B500B)"
   ]
  },
  {
   "cell_type": "markdown",
   "id": "a03b2952",
   "metadata": {},
   "source": [
    "## Create the Cross-section\n",
    "\n",
    "Now we'll create the circular reinforced cross-section with the specified dimensions:"
   ]
  },
  {
   "cell_type": "code",
   "execution_count": null,
   "id": "b8a9b70c",
   "metadata": {},
   "outputs": [],
   "source": [
    "# Define a circular reinforced cross-section\n",
    "cs = CircularReinforcedCrossSection(\n",
    "    diameter=400,\n",
    "    cover=35,\n",
    "    concrete_material=concrete,\n",
    ")"
   ]
  },
  {
   "cell_type": "markdown",
   "id": "230275eb",
   "metadata": {},
   "source": [
    "## Add Longitudinal Reinforcement\n",
    "\n",
    "Let's add longitudinal reinforcement bars to the cross-section:"
   ]
  },
  {
   "cell_type": "code",
   "execution_count": null,
   "id": "1097598a",
   "metadata": {},
   "outputs": [],
   "source": [
    "# Add longitudinal reinforcement to the cross-section\n",
    "cs.add_longitudinal_reinforcement_by_quantity(\n",
    "    n=5,\n",
    "    diameter=25,\n",
    "    material=steel,\n",
    ")\n",
    "\n",
    "# Add additional longitudinal reinforcement to the cross-section\n",
    "cs.add_longitudinal_reinforcement_by_quantity(\n",
    "    n=5,\n",
    "    diameter=16,\n",
    "    material=steel,\n",
    "    start_angle=45,\n",
    ")"
   ]
  },
  {
   "cell_type": "markdown",
   "id": "c8304c12",
   "metadata": {},
   "source": [
    "## Add Stirrups\n",
    "\n",
    "Now we'll add stirrups around the perimeter of the cross-section:"
   ]
  },
  {
   "cell_type": "code",
   "execution_count": null,
   "id": "c04d0120",
   "metadata": {},
   "outputs": [],
   "source": [
    "# Add stirrups to the cross-section\n",
    "cs.add_stirrup_along_perimeter(\n",
    "    diameter=10,\n",
    "    distance=150,\n",
    "    material=steel,\n",
    ")"
   ]
  },
  {
   "cell_type": "markdown",
   "id": "ee5b108e",
   "metadata": {},
   "source": [
    "## Review What We've Built\n",
    "\n",
    "At this point, we have:\n",
    "- ✅ A 400mm diameter circular concrete cross-section with 35mm cover\n",
    "- ✅ 5 longitudinal reinforcement bars (25mm diameter)\n",
    "- ✅ 5 additional reinforcement bars (16mm diameter, offset by 45°)\n",
    "- ✅ Stirrups (10mm diameter, spaced at 150mm intervals)\n",
    "\n",
    "Now let's see our complete reinforced concrete cross-section!"
   ]
  },
  {
   "cell_type": "markdown",
   "id": "c18c0a0b",
   "metadata": {},
   "source": [
    "## Visualize Our Cross-section\n",
    "\n",
    "Finally, let's plot the cross-section to see our complete design:"
   ]
  },
  {
   "cell_type": "code",
   "execution_count": null,
   "id": "1aacef92",
   "metadata": {},
   "outputs": [],
   "source": [
    "# Plot the cross-section\n",
    "import matplotlib.pyplot as plt\n",
    "\n",
    "fig = cs.plot(show=False)  # Create the plot but don't show it yet\n",
    "plt.show()"
   ]
  },
  {
   "cell_type": "markdown",
   "id": "9894831f",
   "metadata": {},
   "source": [
    "## Summary\n",
    "\n",
    "This example demonstrated how to:\n",
    "\n",
    "1. Import the necessary modules from the blueprints library\n",
    "2. Define concrete and steel materials\n",
    "3. Create a circular reinforced concrete cross-section\n",
    "4. Add longitudinal reinforcement bars\n",
    "5. Add stirrups around the perimeter\n",
    "6. Visualize the final cross-section\n",
    "\n",
    "The resulting cross-section includes both primary and secondary reinforcement, providing a comprehensive example of how to work with circular reinforced concrete sections in the blueprints library."
   ]
  }
 ],
 "metadata": {
  "kernelspec": {
   "display_name": "venv",
   "language": "python",
   "name": "python3"
  },
  "language_info": {
   "codemirror_mode": {
    "name": "ipython",
    "version": 3
   },
   "file_extension": ".py",
   "mimetype": "text/x-python",
   "name": "python",
   "nbconvert_exporter": "python",
   "pygments_lexer": "ipython3",
   "version": "3.13.2"
  }
 },
 "nbformat": 4,
 "nbformat_minor": 5
}
