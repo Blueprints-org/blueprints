{
 "cells": [
  {
   "cell_type": "markdown",
   "id": "96b1ccf0",
   "metadata": {},
   "source": [
    "# The Formula Object: Design and Architecture\n",
    "\n",
    "The Formula object is a fundamental component of `blueprints`, designed to seamlessly integrate engineering calculations with comprehensive documentation and traceability capabilities. \n",
    "\n",
    "This chapter examines the architectural design decisions and implementation rationale behind the Formula object.\n",
    "\n",
    "## Design Requirements\n",
    "\n",
    "The Formula object architecture addresses key challenges in engineering software development:\n",
    "\n",
    "- **Native Integration**: Formula results should integrate seamlessly with standard Python syntax and operations making it easy to use\n",
    "- **Rich Metadata**: Each calculation must preserve its origin including source references, parameters, and documentation\n",
    "- **Automatic Documentation**: Formulas should generate technical documentation without manual intervention\n",
    "- **Reliable Behavior**: The object should behave predictably and intuitively in all contexts\n",
    "- **Compositional Design**: Formula results must be injectable into other formulas to enable modular calculations\n",
    "\n",
    "## Architectural Overview\n",
    "\n",
    "The Formula class implements five core capabilities:\n",
    "\n",
    "1. **Float Inheritance**: Formula objects behave identically to Python's native numeric types in mathematical operations\n",
    "2. **Metadata Preservation**: Each formula maintains comprehensive information about its source, parameters, and calculation methodology\n",
    "3. **Compositional Architecture**: Formula results can serve as inputs to other formulas, enabling complex calculation workflows\n",
    "4. **Automatic LaTeX Generation**: Built-in capability to produce mathematical notation for technical documentation\n",
    "5. **Immutable Design**: Formula objects cannot be modified after initialization, ensuring calculation integrity and preventing unintended side effects\n",
    "\n",
    "The following sections demonstrate these capabilities through practical examples using real Eurocode implementations."
   ]
  },
  {
   "cell_type": "markdown",
   "id": "a53f9553",
   "metadata": {},
   "source": [
    "## Import Required Components\n",
    "\n",
    "We'll import concrete implementations from the Eurocode NEN-EN 1992-1-1 standard. Formula 4.2 calculates minimum concrete cover based on bond and durability requirements, while Formula 4.1 calculates nominal concrete cover by adding construction tolerance. These formulas have a natural composition relationship."
   ]
  },
  {
   "cell_type": "code",
   "execution_count": 73,
   "id": "8e7d4cd3",
   "metadata": {},
   "outputs": [],
   "source": [
    "# Import actual Eurocode formulas for concrete cover calculations\n",
    "from blueprints.codes.eurocode.nen_en_1992_1_1_a1_2020.chapter_4_durability_and_cover.formula_4_1 import Form4Dot1NominalConcreteCover\n",
    "from blueprints.codes.eurocode.nen_en_1992_1_1_a1_2020.chapter_4_durability_and_cover.formula_4_2 import Form4Dot2MinimumConcreteCover\n",
    "from blueprints.codes.formula import Formula"
   ]
  },
  {
   "cell_type": "markdown",
   "id": "fec25d85",
   "metadata": {},
   "source": [
    "## Formula Object Creation\n",
    "\n",
    "Let's create a Formula object using an actual implementation from the Eurocode standards. Formula 4.1 calculates the nominal concrete cover based on minimum cover and construction tolerance."
   ]
  },
  {
   "cell_type": "code",
   "execution_count": 74,
   "id": "b3b45446",
   "metadata": {},
   "outputs": [
    {
     "name": "stdout",
     "output_type": "stream",
     "text": [
      "Formula result: 35.0 mm\n",
      "Type: Form4Dot1NominalConcreteCover\n",
      "Is float instance: True\n",
      "Is Formula instance: True\n",
      "Formula label: 4.1\n",
      "Source document: NEN-EN 1992-1-1:2005+A1:2015+NB:2016+A1:2020\n",
      "Stored parameters: c_min=25.0, delta_c_dev=10.0\n",
      "\n",
      "💡 Key insight: The object IS the result (35.0) but carries rich metadata\n"
     ]
    }
   ],
   "source": [
    "# Create a Formula instance using Eurocode formula 4.1: c_nom = c_min + Δc_dev\n",
    "c_min = 25.0  # mm\n",
    "delta_c_dev = 10.0  # mm\n",
    "concrete_cover = Form4Dot1NominalConcreteCover(c_min=c_min, delta_c_dev=delta_c_dev)\n",
    "\n",
    "print(f\"Formula result: {concrete_cover} mm\")\n",
    "print(f\"Type: {type(concrete_cover).__name__}\")\n",
    "print(f\"Is float instance: {isinstance(concrete_cover, float)}\")\n",
    "print(f\"Is Formula instance: {isinstance(concrete_cover, Formula)}\")\n",
    "print(f\"Formula label: {concrete_cover.label}\")\n",
    "print(f\"Source document: {concrete_cover.source_document}\")\n",
    "print(f\"Stored parameters: c_min={concrete_cover.c_min}, delta_c_dev={concrete_cover.delta_c_dev}\")\n",
    "print(f\"\\n💡 Key insight: The object IS the result (35.0) but carries rich metadata\")"
   ]
  },
  {
   "cell_type": "markdown",
   "id": "81ba3b12",
   "metadata": {},
   "source": [
    "## Float Inheritance Behavior\n",
    "\n",
    "One of the key design features is that Formula objects inherit from Python's `float` type. This means they can be used in mathematical operations exactly like built-in numeric types, making them seamlessly integrate into existing Python code."
   ]
  },
  {
   "cell_type": "code",
   "execution_count": 75,
   "id": "2f383bab",
   "metadata": {},
   "outputs": [
    {
     "name": "stdout",
     "output_type": "stream",
     "text": [
      "Original value: 35.0\n",
      "Addition: 40.0\n",
      "Multiplication: 42.0\n",
      "Comparison: True\n",
      "Maximum: 50.0\n",
      "Sum: 65.0\n",
      "\n",
      "After += operation:\n",
      "  Result: 40.0, type: float\n",
      "  Is Formula instance: False\n",
      "  Original formula still intact: 35.0 (type: Form4Dot1NominalConcreteCover)\n"
     ]
    }
   ],
   "source": [
    "# Mathematical operations work directly with Formula objects\n",
    "print(f\"Original value: {concrete_cover}\")\n",
    "print(f\"Addition: {concrete_cover + 5.0}\")\n",
    "print(f\"Multiplication: {concrete_cover * 1.2}\")\n",
    "print(f\"Comparison: {concrete_cover > 30}\")\n",
    "\n",
    "# Formula objects work anywhere floats are expected\n",
    "values = [concrete_cover, 40.0, 50.0]\n",
    "print(f\"Maximum: {max(values)}\")\n",
    "print(f\"Sum: {sum([concrete_cover, 10, 20])}\")\n",
    "\n",
    "# Important: Assignment operators create new references and lose Formula metadata!\n",
    "original_formula = concrete_cover  # Keep reference to original Formula\n",
    "concrete_cover += 5.0  # This creates a new float object\n",
    "print(f\"\\nAfter += operation:\")\n",
    "print(f\"  Result: {concrete_cover}, type: {type(concrete_cover).__name__}\")\n",
    "print(f\"  Is Formula instance: {isinstance(concrete_cover, Formula)}\")\n",
    "print(f\"  Original formula still intact: {original_formula} (type: {type(original_formula).__name__})\")"
   ]
  },
  {
   "cell_type": "markdown",
   "id": "db6f2228",
   "metadata": {},
   "source": [
    "## Formula Composition\n",
    "\n",
    "The real power of the Formula design becomes apparent when composing formulas. Since Formula objects behave like native Python numbers, they can be seamlessly used as inputs to other formulas. Let's demonstrate this with actual Eurocode formulas where Formula 4.2 (minimum concrete cover) feeds into Formula 4.1 (nominal concrete cover)."
   ]
  },
  {
   "cell_type": "code",
   "execution_count": null,
   "id": "38571db2",
   "metadata": {},
   "outputs": [
    {
     "name": "stdout",
     "output_type": "stream",
     "text": [
      "Minimum cover (Formula 4.2): 20.0 mm\n",
      "Nominal cover (Formula 4.1): 30.0 mm\n",
      "\n",
      "Composition verification:\n",
      "  Formula 4.1 received c_min as: 20.0\n",
      "  Type of c_min input: Form4Dot2MinimumConcreteCover\n",
      "  Original Formula 4.2 label: 4.2\n"
     ]
    }
   ],
   "source": [
    "# Demonstrate composition using real Eurocode formulas\n",
    "# Formula 4.2 calculates minimum concrete cover\n",
    "c_min_b = 16.0  # mm - minimum cover for bond requirements\n",
    "c_min_dur = 20.0  # mm - minimum cover for durability\n",
    "min_cover = Form4Dot2MinimumConcreteCover(\n",
    "    c_min_b=c_min_b,\n",
    "    c_min_dur=c_min_dur,\n",
    "    delta_c_dur_gamma=0,  # reduction for stainless steel\n",
    "    delta_c_dur_st=0,    # reduction for additional protection\n",
    "    delta_c_dur_add=0    # reduction for additional measures\n",
    ")\n",
    "\n",
    "# Formula 4.1 uses the result of Formula 4.2 as input\n",
    "# Notice how we pass the entire Formula object, not just its value\n",
    "delta_c_dev = 10.0  # mm - construction tolerance\n",
    "nominal_cover = Form4Dot1NominalConcreteCover(\n",
    "    c_min=min_cover,  # This is a Formula object!\n",
    "    delta_c_dev=delta_c_dev\n",
    ")\n",
    "\n",
    "print(f\"Minimum cover (Formula 4.2): {min_cover} mm\")\n",
    "print(f\"Nominal cover (Formula 4.1): {nominal_cover} mm\")\n",
    "print(f\"\\nComposition verification:\")\n",
    "print(f\"  Formula 4.1 received c_min as: {nominal_cover.c_min}\")\n",
    "print(f\"  Type of c_min input: {type(nominal_cover.c_min).__name__}\")\n",
    "print(f\"  Original Formula 4.2 label: {nominal_cover.c_min.label}\")"
   ]
  },
  {
   "cell_type": "markdown",
   "id": "43c9e4b7",
   "metadata": {},
   "source": [
    "## Key Insights from Composition\n",
    "\n",
    "**Transparent Composition:** Formula 4.1 doesn't need to know it received a Formula object - it works seamlessly because Formula inherits from `float`. This enables plug-and-play modularity where any calculation can accept either raw values or Formula objects.\n",
    "\n",
    "**Calculation History Preservation:** The immutable design means you can recursively retrieve the complete calculation history of any result. Each Formula object maintains references to its inputs, creating a directed acyclic graph of the entire calculation workflow.\n",
    "\n",
    "**Engineering Traceability:** This design provides full audit trails for engineering calculations - crucial for regulatory compliance, peer review, and quality assurance in professional engineering applications."
   ]
  },
  {
   "cell_type": "markdown",
   "id": "7343e7f4",
   "metadata": {},
   "source": [
    "## Metadata and Traceability\n",
    "\n",
    "Beyond the numerical result, each Formula object carries rich metadata that enables full traceability of calculations. This is crucial for engineering applications where you need to document the source and methodology of every calculation."
   ]
  },
  {
   "cell_type": "code",
   "execution_count": 70,
   "id": "c6c90550",
   "metadata": {},
   "outputs": [
    {
     "name": "stdout",
     "output_type": "stream",
     "text": [
      "\n",
      "Minimum Cover (4.2):\n",
      "  Result: 20.0 mm\n",
      "  Formula Label: 4.2\n",
      "  Source Document: NEN-EN 1992-1-1:2005+A1:2015+NB:2016+A1:2020\n",
      "  Implementation: Form4Dot2MinimumConcreteCover\n",
      "  Module: blueprints.codes.eurocode.nen_en_1992_1_1_a1_2020.chapter_4_durability_and_cover.formula_4_2\n",
      "  Input Parameters:\n",
      "    c_min_b: 16.0 (float)\n",
      "    c_min_dur: 20.0 (float)\n",
      "\n",
      "Nominal Cover (4.1):\n",
      "  Result: 30.0 mm\n",
      "  Formula Label: 4.1\n",
      "  Source Document: NEN-EN 1992-1-1:2005+A1:2015+NB:2016+A1:2020\n",
      "  Implementation: Form4Dot1NominalConcreteCover\n",
      "  Module: blueprints.codes.eurocode.nen_en_1992_1_1_a1_2020.chapter_4_durability_and_cover.formula_4_1\n",
      "  Input Parameters:\n",
      "    c_min: 20.0 (Form4Dot2MinimumConcreteCover)\n",
      "    delta_c_dev: 10.0 (float)\n",
      "\n",
      "Immutability Protection:\n",
      "✅ Modification prevented: Formula objects are immutable after creation\n",
      "   This ensures calculation integrity and prevents accidental parameter changes.\n"
     ]
    }
   ],
   "source": [
    "# Examine metadata available in our composed Formula objects\n",
    "formulas = [min_cover, nominal_cover]\n",
    "names = [\"Minimum Cover (4.2)\", \"Nominal Cover (4.1)\"]\n",
    "\n",
    "for name, formula in zip(names, formulas):\n",
    "    print(f\"\\n{name}:\")\n",
    "    print(f\"  Result: {formula} mm\")\n",
    "    print(f\"  Formula Label: {formula.label}\")\n",
    "    print(f\"  Source Document: {formula.source_document}\")\n",
    "    print(f\"  Implementation: {formula.__class__.__name__}\")\n",
    "    print(f\"  Module: {formula.__class__.__module__}\")\n",
    "    \n",
    "    # Show stored input parameters with their types\n",
    "    print(f\"  Input Parameters:\")\n",
    "    for attr_name in ['c_min_b', 'c_min_dur', 'c_min', 'delta_c_dev']:\n",
    "        if hasattr(formula, attr_name):\n",
    "            attr_value = getattr(formula, attr_name)\n",
    "            value_type = type(attr_value).__name__\n",
    "            print(f\"    {attr_name}: {attr_value} ({value_type})\")\n",
    "\n",
    "# Demonstrate immutability protection\n",
    "print(f\"\\nImmutability Protection:\")\n",
    "try:\n",
    "    nominal_cover.c_min = 999  # This should fail\n",
    "    print(\"❌ ERROR: Modification should have been prevented!\")\n",
    "except AttributeError as e:\n",
    "    print(f\"✅ Modification prevented: Formula objects are immutable after creation\")\n",
    "    print(f\"   This ensures calculation integrity and prevents accidental parameter changes.\")"
   ]
  },
  {
   "cell_type": "markdown",
   "id": "3e008167",
   "metadata": {},
   "source": [
    "## LaTeX Documentation Generation\n",
    "\n",
    "A major benefit of the Formula design is automatic LaTeX generation for technical documentation. Every formula can generate its mathematical representation, eliminating the need for manual equation formatting in reports and documentation."
   ]
  },
  {
   "cell_type": "code",
   "execution_count": 71,
   "id": "175e4fdd",
   "metadata": {},
   "outputs": [
    {
     "name": "stdout",
     "output_type": "stream",
     "text": [
      "LaTeX Generation for Eurocode Formulas:\n",
      "\n",
      "Formula 4.2 (Minimum Cover):\n",
      "  Complete equation: c_{min} = \\max \\left\\{c_{min,b}; c_{min,dur}+\\Delta c_{dur,\\gamma}-\\Delta c_{dur,st}-\\Delta c_{dur,add}; 10 \\text{mm}\\right\\} = \\max \\left\\{16.0; 20.0+0-0-0; 10\\right\\} = 20.0\n",
      "  Return symbol: c_{min}\n",
      "  Symbolic equation: \\max \\left\\{c_{min,b}; c_{min,dur}+\\Delta c_{dur,\\gamma}-\\Delta c_{dur,st}-\\Delta c_{dur,add}; 10 \\text{mm}\\right\\}\n",
      "  Numeric equation: \\max \\left\\{16.0; 20.0+0-0-0; 10\\right\\}\n",
      "\n",
      "Formula 4.1 (Nominal Cover):\n",
      "  Complete equation: c_{nom} = c_{min}+\\Delta c_{dev} = 20.0+10.0 = 30.0\n",
      "  Return symbol: c_{nom}\n",
      "  Symbolic equation: c_{min}+\\Delta c_{dev}\n",
      "\n",
      "LaTeX Structure:\n",
      "  Each LatexFormula object contains:\n",
      "    • return_symbol: Left-hand side of equation (e.g., 'c_nom')\n",
      "    • equation: Right-hand side with symbols (e.g., 'c_min + \\Delta c_dev')\n",
      "    • numeric_equation: Equation with actual values\n",
      "    • result: Final calculated result\n",
      "    • complete: Full formatted equation for documentation\n",
      "\n",
      "  This enables automatic generation of technical reports and documentation\n",
      "  without manual LaTeX formatting, ensuring consistency across all calculations.\n"
     ]
    }
   ],
   "source": [
    "# Generate LaTeX representations for our Eurocode formulas\n",
    "latex_min = min_cover.latex()\n",
    "latex_nom = nominal_cover.latex()\n",
    "\n",
    "print(\"LaTeX Generation for Eurocode Formulas:\")\n",
    "print(f\"\\nFormula 4.2 (Minimum Cover):\")\n",
    "print(f\"  Complete equation: {latex_min.complete}\")\n",
    "print(f\"  Return symbol: {latex_min.return_symbol}\")\n",
    "print(f\"  Symbolic equation: {latex_min.equation}\")\n",
    "print(f\"  Numeric equation: {latex_min.numeric_equation}\")\n",
    "\n",
    "print(f\"\\nFormula 4.1 (Nominal Cover):\")\n",
    "print(f\"  Complete equation: {latex_nom.complete}\")\n",
    "print(f\"  Return symbol: {latex_nom.return_symbol}\")\n",
    "print(f\"  Symbolic equation: {latex_nom.equation}\")\n",
    "\n",
    "print(f\"\\nLaTeX Structure:\")\n",
    "print(f\"  Each LatexFormula object contains:\")\n",
    "print(f\"    • return_symbol: Left-hand side of equation (e.g., 'c_nom')\")\n",
    "print(f\"    • equation: Right-hand side with symbols (e.g., 'c_min + \\\\Delta c_dev')\")\n",
    "print(f\"    • numeric_equation: Equation with actual values\")\n",
    "print(f\"    • result: Final calculated result\")\n",
    "print(f\"    • complete: Full formatted equation for documentation\")\n",
    "\n",
    "print(f\"\\n  This enables automatic generation of technical reports and documentation\")\n",
    "print(f\"  without manual LaTeX formatting, ensuring consistency across all calculations.\")"
   ]
  },
  {
   "cell_type": "markdown",
   "id": "932606ad",
   "metadata": {},
   "source": [
    "## Summary: Key Benefits and Implementation\n",
    "\n",
    "### Practical Advantages\n",
    "\n",
    "The Formula object design provides several practical advantages:\n",
    "\n",
    "### 1. Seamless Integration\n",
    "- Formula objects work in mathematical operations like native Python numbers\n",
    "- No special handling required when using formulas as inputs to calculations\n",
    "- Compatible with Python's built-in functions (`max()`, `sum()`, etc.)\n",
    "\n",
    "### 2. Calculation Traceability  \n",
    "- Each formula maintains its label and source document reference\n",
    "- Input parameters are preserved for verification and debugging\n",
    "- Full audit trail from result back to original calculation\n",
    "\n",
    "### 3. Automatic Documentation\n",
    "- LaTeX generation eliminates manual equation formatting\n",
    "- Consistent mathematical notation across all calculations\n",
    "- Direct integration with technical documentation workflows\n",
    "\n",
    "### 4. Modular Architecture\n",
    "- Complex calculations built from simple, testable components\n",
    "- Formula objects can be reused in different calculation contexts\n",
    "- Easy to modify individual calculation steps without affecting others\n",
    "\n",
    "### 5. Data Integrity\n",
    "- Immutable objects prevent accidental modification of critical calculations\n",
    "- Type safety through abstract base class enforcement\n",
    "- Consistent interface across all formula implementations"
   ]
  }
 ],
 "metadata": {
  "kernelspec": {
   "display_name": "blue-prints (3.13.2)",
   "language": "python",
   "name": "python3"
  },
  "language_info": {
   "codemirror_mode": {
    "name": "ipython",
    "version": 3
   },
   "file_extension": ".py",
   "mimetype": "text/x-python",
   "name": "python",
   "nbconvert_exporter": "python",
   "pygments_lexer": "ipython3",
   "version": "3.13.2"
  }
 },
 "nbformat": 4,
 "nbformat_minor": 5
}
